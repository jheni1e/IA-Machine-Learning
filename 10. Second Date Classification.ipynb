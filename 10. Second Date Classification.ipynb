{
 "cells": [
  {
   "cell_type": "markdown",
   "id": "80ef8355",
   "metadata": {},
   "source": [
    "# Exercício — O usuário terá um segundo encontro ou não?\n",
    "##"
   ]
  }
 ],
 "metadata": {
  "language_info": {
   "name": "python"
  }
 },
 "nbformat": 4,
 "nbformat_minor": 5
}
