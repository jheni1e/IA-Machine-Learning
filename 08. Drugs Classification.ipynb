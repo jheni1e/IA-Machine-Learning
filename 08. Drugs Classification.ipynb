{
 "cells": [
  {
   "cell_type": "markdown",
   "id": "c8c664ad",
   "metadata": {},
   "source": [
    "# Exercício de Algoritmos de Classificação — Dataset de drogas/medicamentos\n",
    "## Importação das bibliotecas e inicialização do dataframe"
   ]
  },
  {
   "cell_type": "code",
   "execution_count": 239,
   "id": "3fa7379a",
   "metadata": {},
   "outputs": [
    {
     "data": {
      "text/html": [
       "<div>\n",
       "<style scoped>\n",
       "    .dataframe tbody tr th:only-of-type {\n",
       "        vertical-align: middle;\n",
       "    }\n",
       "\n",
       "    .dataframe tbody tr th {\n",
       "        vertical-align: top;\n",
       "    }\n",
       "\n",
       "    .dataframe thead th {\n",
       "        text-align: right;\n",
       "    }\n",
       "</style>\n",
       "<table border=\"1\" class=\"dataframe\">\n",
       "  <thead>\n",
       "    <tr style=\"text-align: right;\">\n",
       "      <th></th>\n",
       "      <th>Age</th>\n",
       "      <th>Sex</th>\n",
       "      <th>BP</th>\n",
       "      <th>Cholesterol</th>\n",
       "      <th>Na_to_K</th>\n",
       "      <th>Drug</th>\n",
       "    </tr>\n",
       "  </thead>\n",
       "  <tbody>\n",
       "    <tr>\n",
       "      <th>0</th>\n",
       "      <td>23</td>\n",
       "      <td>F</td>\n",
       "      <td>HIGH</td>\n",
       "      <td>HIGH</td>\n",
       "      <td>25.355</td>\n",
       "      <td>DrugY</td>\n",
       "    </tr>\n",
       "    <tr>\n",
       "      <th>1</th>\n",
       "      <td>47</td>\n",
       "      <td>M</td>\n",
       "      <td>LOW</td>\n",
       "      <td>HIGH</td>\n",
       "      <td>13.093</td>\n",
       "      <td>drugC</td>\n",
       "    </tr>\n",
       "    <tr>\n",
       "      <th>2</th>\n",
       "      <td>47</td>\n",
       "      <td>M</td>\n",
       "      <td>LOW</td>\n",
       "      <td>HIGH</td>\n",
       "      <td>10.114</td>\n",
       "      <td>drugC</td>\n",
       "    </tr>\n",
       "    <tr>\n",
       "      <th>3</th>\n",
       "      <td>28</td>\n",
       "      <td>F</td>\n",
       "      <td>NORMAL</td>\n",
       "      <td>HIGH</td>\n",
       "      <td>7.798</td>\n",
       "      <td>drugX</td>\n",
       "    </tr>\n",
       "    <tr>\n",
       "      <th>4</th>\n",
       "      <td>61</td>\n",
       "      <td>F</td>\n",
       "      <td>LOW</td>\n",
       "      <td>HIGH</td>\n",
       "      <td>18.043</td>\n",
       "      <td>DrugY</td>\n",
       "    </tr>\n",
       "    <tr>\n",
       "      <th>...</th>\n",
       "      <td>...</td>\n",
       "      <td>...</td>\n",
       "      <td>...</td>\n",
       "      <td>...</td>\n",
       "      <td>...</td>\n",
       "      <td>...</td>\n",
       "    </tr>\n",
       "    <tr>\n",
       "      <th>195</th>\n",
       "      <td>56</td>\n",
       "      <td>F</td>\n",
       "      <td>LOW</td>\n",
       "      <td>HIGH</td>\n",
       "      <td>11.567</td>\n",
       "      <td>drugC</td>\n",
       "    </tr>\n",
       "    <tr>\n",
       "      <th>196</th>\n",
       "      <td>16</td>\n",
       "      <td>M</td>\n",
       "      <td>LOW</td>\n",
       "      <td>HIGH</td>\n",
       "      <td>12.006</td>\n",
       "      <td>drugC</td>\n",
       "    </tr>\n",
       "    <tr>\n",
       "      <th>197</th>\n",
       "      <td>52</td>\n",
       "      <td>M</td>\n",
       "      <td>NORMAL</td>\n",
       "      <td>HIGH</td>\n",
       "      <td>9.894</td>\n",
       "      <td>drugX</td>\n",
       "    </tr>\n",
       "    <tr>\n",
       "      <th>198</th>\n",
       "      <td>23</td>\n",
       "      <td>M</td>\n",
       "      <td>NORMAL</td>\n",
       "      <td>NORMAL</td>\n",
       "      <td>14.020</td>\n",
       "      <td>drugX</td>\n",
       "    </tr>\n",
       "    <tr>\n",
       "      <th>199</th>\n",
       "      <td>40</td>\n",
       "      <td>F</td>\n",
       "      <td>LOW</td>\n",
       "      <td>NORMAL</td>\n",
       "      <td>11.349</td>\n",
       "      <td>drugX</td>\n",
       "    </tr>\n",
       "  </tbody>\n",
       "</table>\n",
       "<p>200 rows × 6 columns</p>\n",
       "</div>"
      ],
      "text/plain": [
       "     Age Sex      BP Cholesterol  Na_to_K   Drug\n",
       "0     23   F    HIGH        HIGH   25.355  DrugY\n",
       "1     47   M     LOW        HIGH   13.093  drugC\n",
       "2     47   M     LOW        HIGH   10.114  drugC\n",
       "3     28   F  NORMAL        HIGH    7.798  drugX\n",
       "4     61   F     LOW        HIGH   18.043  DrugY\n",
       "..   ...  ..     ...         ...      ...    ...\n",
       "195   56   F     LOW        HIGH   11.567  drugC\n",
       "196   16   M     LOW        HIGH   12.006  drugC\n",
       "197   52   M  NORMAL        HIGH    9.894  drugX\n",
       "198   23   M  NORMAL      NORMAL   14.020  drugX\n",
       "199   40   F     LOW      NORMAL   11.349  drugX\n",
       "\n",
       "[200 rows x 6 columns]"
      ]
     },
     "execution_count": 239,
     "metadata": {},
     "output_type": "execute_result"
    }
   ],
   "source": [
    "import pandas as pd\n",
    "import numpy as np\n",
    "import matplotlib.pyplot as plt\n",
    "\n",
    "df = pd.read_csv(\"drug200.csv\")\n",
    "df"
   ]
  },
  {
   "cell_type": "code",
   "execution_count": 240,
   "id": "e25d58d6",
   "metadata": {},
   "outputs": [
    {
     "data": {
      "text/plain": [
       "Index(['Age', 'Sex', 'BP', 'Cholesterol', 'Na_to_K', 'Drug'], dtype='object')"
      ]
     },
     "execution_count": 240,
     "metadata": {},
     "output_type": "execute_result"
    }
   ],
   "source": [
    "df.columns"
   ]
  },
  {
   "cell_type": "markdown",
   "id": "d7e2a243",
   "metadata": {},
   "source": [
    "## Procurando por valores nulos ou Not a Number"
   ]
  },
  {
   "cell_type": "code",
   "execution_count": 241,
   "id": "8449287a",
   "metadata": {},
   "outputs": [
    {
     "data": {
      "text/plain": [
       "Age            0\n",
       "Sex            0\n",
       "BP             0\n",
       "Cholesterol    0\n",
       "Na_to_K        0\n",
       "Drug           0\n",
       "dtype: int64"
      ]
     },
     "execution_count": 241,
     "metadata": {},
     "output_type": "execute_result"
    }
   ],
   "source": [
    "df.isnull().sum()"
   ]
  },
  {
   "cell_type": "code",
   "execution_count": 242,
   "id": "89675d29",
   "metadata": {},
   "outputs": [
    {
     "data": {
      "text/plain": [
       "Age            0\n",
       "Sex            0\n",
       "BP             0\n",
       "Cholesterol    0\n",
       "Na_to_K        0\n",
       "Drug           0\n",
       "dtype: int64"
      ]
     },
     "execution_count": 242,
     "metadata": {},
     "output_type": "execute_result"
    }
   ],
   "source": [
    "df.isna().sum()"
   ]
  },
  {
   "cell_type": "markdown",
   "id": "fcfb36ee",
   "metadata": {},
   "source": [
    "## Checando as drogas e a quantidade de cada uma"
   ]
  },
  {
   "cell_type": "code",
   "execution_count": 243,
   "id": "4473334b",
   "metadata": {},
   "outputs": [
    {
     "data": {
      "text/plain": [
       "Drug\n",
       "DrugY    91\n",
       "drugX    54\n",
       "drugA    23\n",
       "drugC    16\n",
       "drugB    16\n",
       "Name: count, dtype: int64"
      ]
     },
     "execution_count": 243,
     "metadata": {},
     "output_type": "execute_result"
    }
   ],
   "source": [
    "df['Drug'].value_counts()"
   ]
  },
  {
   "cell_type": "markdown",
   "id": "1ff19e60",
   "metadata": {},
   "source": [
    "## Limpando as colunas e definindo o target da classificação"
   ]
  },
  {
   "cell_type": "code",
   "execution_count": 244,
   "id": "1de2b3ed",
   "metadata": {},
   "outputs": [],
   "source": [
    "features = ['Age', 'Sex', 'BP', 'Cholesterol', 'Na_to_K']\n",
    "target = 'Drug'\n",
    "\n",
    "clean_df = df[features]\n",
    "clean_target = df[target]"
   ]
  },
  {
   "cell_type": "markdown",
   "id": "9a4d2745",
   "metadata": {},
   "source": [
    "## Utilizando LabelEncoder para transformar as colunas de BP e Colesterol"
   ]
  },
  {
   "cell_type": "code",
   "execution_count": 245,
   "id": "5dea9038",
   "metadata": {},
   "outputs": [
    {
     "name": "stderr",
     "output_type": "stream",
     "text": [
      "C:\\Users\\disrct\\AppData\\Local\\Temp\\ipykernel_12476\\2127780391.py:6: SettingWithCopyWarning: \n",
      "A value is trying to be set on a copy of a slice from a DataFrame.\n",
      "Try using .loc[row_indexer,col_indexer] = value instead\n",
      "\n",
      "See the caveats in the documentation: https://pandas.pydata.org/pandas-docs/stable/user_guide/indexing.html#returning-a-view-versus-a-copy\n",
      "  clean_df['BP'] = le_bp.fit_transform(clean_df['BP'])\n",
      "C:\\Users\\disrct\\AppData\\Local\\Temp\\ipykernel_12476\\2127780391.py:7: SettingWithCopyWarning: \n",
      "A value is trying to be set on a copy of a slice from a DataFrame.\n",
      "Try using .loc[row_indexer,col_indexer] = value instead\n",
      "\n",
      "See the caveats in the documentation: https://pandas.pydata.org/pandas-docs/stable/user_guide/indexing.html#returning-a-view-versus-a-copy\n",
      "  clean_df['Cholesterol'] = le_col.fit_transform(clean_df['Cholesterol'])\n"
     ]
    }
   ],
   "source": [
    "from sklearn.preprocessing import LabelEncoder\n",
    "\n",
    "le_bp = LabelEncoder()\n",
    "le_col = LabelEncoder()\n",
    "\n",
    "clean_df['BP'] = le_bp.fit_transform(clean_df['BP'])\n",
    "clean_df['Cholesterol'] = le_col.fit_transform(clean_df['Cholesterol'])"
   ]
  },
  {
   "cell_type": "markdown",
   "id": "0a83ca35",
   "metadata": {},
   "source": [
    "## Utilizando One-Hot Encoding para transformar a coluna de sexo"
   ]
  },
  {
   "cell_type": "code",
   "execution_count": 246,
   "id": "f50f6a1b",
   "metadata": {},
   "outputs": [],
   "source": [
    "from sklearn.preprocessing import OneHotEncoder\n",
    "from sklearn.compose import ColumnTransformer\n",
    "\n",
    "onehot_sex = ColumnTransformer(transformers=[('OneHot', OneHotEncoder(), [1])], remainder='passthrough')\n",
    "clean_df = onehot_sex.fit_transform(clean_df)"
   ]
  },
  {
   "cell_type": "code",
   "execution_count": 247,
   "id": "b6a43030",
   "metadata": {},
   "outputs": [
    {
     "data": {
      "text/plain": [
       "array([[ 1.   ,  0.   , 23.   ,  0.   ,  0.   , 25.355],\n",
       "       [ 0.   ,  1.   , 47.   ,  1.   ,  0.   , 13.093],\n",
       "       [ 0.   ,  1.   , 47.   ,  1.   ,  0.   , 10.114],\n",
       "       ...,\n",
       "       [ 0.   ,  1.   , 52.   ,  2.   ,  0.   ,  9.894],\n",
       "       [ 0.   ,  1.   , 23.   ,  2.   ,  1.   , 14.02 ],\n",
       "       [ 1.   ,  0.   , 40.   ,  1.   ,  1.   , 11.349]], shape=(200, 6))"
      ]
     },
     "execution_count": 247,
     "metadata": {},
     "output_type": "execute_result"
    }
   ],
   "source": [
    "clean_df"
   ]
  },
  {
   "cell_type": "markdown",
   "id": "8f95d130",
   "metadata": {},
   "source": [
    "## Colunas transformadas (anotações)\n",
    "\n",
    "clean_df[0] = Feminino\n",
    "clean_df[1] = Masculino\n",
    "clean_df[3] = BP — 0 = HIGH, 1 = LOW, 2 = NORMAL\n",
    "clean_df[4] = Cholesterol — 0 = HIGH, 1 = NORMAL"
   ]
  },
  {
   "cell_type": "markdown",
   "id": "261f7abe",
   "metadata": {},
   "source": [
    "## Separando dados de treinamento e dados de teste"
   ]
  },
  {
   "cell_type": "code",
   "execution_count": 248,
   "id": "50f79caa",
   "metadata": {},
   "outputs": [
    {
     "data": {
      "text/plain": [
       "((140, 6), (60, 6))"
      ]
     },
     "execution_count": 248,
     "metadata": {},
     "output_type": "execute_result"
    }
   ],
   "source": [
    "from sklearn.model_selection import train_test_split\n",
    "\n",
    "x_drugs_train, x_drugs_test, y_drugs_train, y_drugs_test = train_test_split(clean_df, clean_target, test_size=0.3, random_state=0)\n",
    "x_drugs_train.shape, x_drugs_test.shape"
   ]
  },
  {
   "cell_type": "markdown",
   "id": "b09fbfd0",
   "metadata": {},
   "source": [
    "# Testando diferentes algoritmos de classificação\n",
    "## Naive Bayes"
   ]
  },
  {
   "cell_type": "code",
   "execution_count": 249,
   "id": "e46f79b8",
   "metadata": {},
   "outputs": [],
   "source": [
    "from sklearn.naive_bayes import GaussianNB\n",
    "\n",
    "naive_drugs = GaussianNB()\n",
    "naive_drugs.fit(x_drugs_train, y_drugs_train)\n",
    "\n",
    "model = naive_drugs"
   ]
  },
  {
   "cell_type": "markdown",
   "id": "e100ad4c",
   "metadata": {},
   "source": [
    "## Comparando as previsões do algoritmo com os dados reais"
   ]
  },
  {
   "cell_type": "code",
   "execution_count": 250,
   "id": "fdd8142c",
   "metadata": {},
   "outputs": [
    {
     "data": {
      "text/plain": [
       "array(['drugC', 'drugX', 'DrugY', 'DrugY', 'DrugY', 'drugX', 'drugX',\n",
       "       'drugX', 'drugC', 'drugX', 'drugA', 'DrugY', 'DrugY', 'DrugY',\n",
       "       'drugB', 'drugC', 'DrugY', 'DrugY', 'drugX', 'drugA', 'drugA',\n",
       "       'drugX', 'drugX', 'drugX', 'DrugY', 'DrugY', 'DrugY', 'DrugY',\n",
       "       'DrugY', 'drugX', 'drugX', 'drugC', 'drugA', 'drugX', 'DrugY',\n",
       "       'DrugY', 'drugX', 'drugC', 'drugA', 'drugX', 'DrugY', 'drugA',\n",
       "       'DrugY', 'DrugY', 'DrugY', 'drugX', 'drugX', 'DrugY', 'drugA',\n",
       "       'drugB', 'DrugY', 'drugB', 'DrugY', 'DrugY', 'drugC', 'DrugY',\n",
       "       'drugX', 'drugX', 'DrugY', 'drugB'], dtype='<U5')"
      ]
     },
     "execution_count": 250,
     "metadata": {},
     "output_type": "execute_result"
    }
   ],
   "source": [
    "predictions = naive_drugs.predict(x_drugs_test)\n",
    "predictions"
   ]
  },
  {
   "cell_type": "code",
   "execution_count": 251,
   "id": "cad8c92b",
   "metadata": {},
   "outputs": [
    {
     "data": {
      "text/plain": [
       "array(['drugC', 'drugX', 'DrugY', 'DrugY', 'DrugY', 'drugX', 'drugX',\n",
       "       'drugX', 'DrugY', 'drugX', 'drugA', 'DrugY', 'DrugY', 'DrugY',\n",
       "       'drugB', 'drugC', 'DrugY', 'DrugY', 'drugX', 'DrugY', 'DrugY',\n",
       "       'drugX', 'drugX', 'drugX', 'DrugY', 'DrugY', 'DrugY', 'DrugY',\n",
       "       'DrugY', 'drugX', 'drugX', 'drugC', 'drugA', 'drugX', 'DrugY',\n",
       "       'DrugY', 'drugX', 'DrugY', 'drugA', 'drugX', 'DrugY', 'drugA',\n",
       "       'DrugY', 'drugX', 'DrugY', 'drugX', 'DrugY', 'DrugY', 'drugA',\n",
       "       'DrugY', 'DrugY', 'drugB', 'DrugY', 'DrugY', 'drugC', 'DrugY',\n",
       "       'drugX', 'drugX', 'DrugY', 'drugB'], dtype=object)"
      ]
     },
     "execution_count": 251,
     "metadata": {},
     "output_type": "execute_result"
    }
   ],
   "source": [
    "np.array(y_drugs_test)"
   ]
  },
  {
   "cell_type": "markdown",
   "id": "a5add875",
   "metadata": {},
   "source": [
    "## Acurácia"
   ]
  },
  {
   "cell_type": "code",
   "execution_count": 252,
   "id": "466b3723",
   "metadata": {},
   "outputs": [
    {
     "data": {
      "text/plain": [
       "0.8833333333333333"
      ]
     },
     "execution_count": 252,
     "metadata": {},
     "output_type": "execute_result"
    }
   ],
   "source": [
    "from sklearn.metrics import accuracy_score\n",
    "\n",
    "pred = model.predict(x_drugs_test)\n",
    "accuracy = accuracy_score(y_drugs_test, pred)\n",
    "accuracy"
   ]
  },
  {
   "cell_type": "markdown",
   "id": "464f6453",
   "metadata": {},
   "source": [
    "## Matriz de Confusão"
   ]
  },
  {
   "cell_type": "code",
   "execution_count": 253,
   "id": "3e69c7b8",
   "metadata": {},
   "outputs": [
    {
     "data": {
      "text/plain": [
       "0.8833333333333333"
      ]
     },
     "execution_count": 253,
     "metadata": {},
     "output_type": "execute_result"
    },
    {
     "data": {
      "image/png": "[encoded data removed]",
      "text/plain": [
       "<Figure size 500x500 with 1 Axes>"
      ]
     },
     "metadata": {},
     "output_type": "display_data"
    }
   ],
   "source": [
    "from yellowbrick.classifier import ConfusionMatrix\n",
    "plt.figure(figsize=(5,5))\n",
    "\n",
    "pred = model.predict(x_drugs_test)\n",
    "cm = ConfusionMatrix(model)\n",
    "cm.fit(x_drugs_train, y_drugs_train)\n",
    "cm.score(x_drugs_test, y_drugs_test)"
   ]
  },
  {
   "cell_type": "markdown",
   "id": "8f57ffba",
   "metadata": {},
   "source": [
    "## Classification Report"
   ]
  },
  {
   "cell_type": "code",
   "execution_count": 254,
   "id": "ee923c78",
   "metadata": {},
   "outputs": [
    {
     "name": "stdout",
     "output_type": "stream",
     "text": [
      "              precision    recall  f1-score   support\n",
      "\n",
      "       DrugY       0.96      0.80      0.87        30\n",
      "       drugA       0.71      1.00      0.83         5\n",
      "       drugB       0.75      1.00      0.86         3\n",
      "       drugC       0.67      1.00      0.80         4\n",
      "       drugX       0.94      0.94      0.94        18\n",
      "\n",
      "    accuracy                           0.88        60\n",
      "   macro avg       0.81      0.95      0.86        60\n",
      "weighted avg       0.90      0.88      0.89        60\n",
      "\n"
     ]
    }
   ],
   "source": [
    "from sklearn.metrics import classification_report\n",
    "\n",
    "print(classification_report(y_drugs_test, pred)) "
   ]
  },
  {
   "cell_type": "markdown",
   "id": "6e7ed32a",
   "metadata": {},
   "source": [
    "## Decision Tree Classifier"
   ]
  },
  {
   "cell_type": "code",
   "execution_count": 255,
   "id": "0df3b2a0",
   "metadata": {},
   "outputs": [
    {
     "data": {
      "image/png": "[encoded data removed]",
      "text/plain": [
       "<Figure size 1200x800 with 1 Axes>"
      ]
     },
     "metadata": {},
     "output_type": "display_data"
    }
   ],
   "source": [
    "from sklearn.tree import DecisionTreeClassifier, plot_tree\n",
    "tree = DecisionTreeClassifier(criterion='gini', max_depth=3, random_state=42)\n",
    "tree.fit(clean_df, clean_target)\n",
    "\n",
    "model = tree\n",
    "\n",
    "plt.figure(figsize=(12,8))\n",
    "plot_tree(tree, feature_names=clean_target, class_names=clean_target.unique(), filled=True)\n",
    "plt.show()"
   ]
  },
  {
   "cell_type": "markdown",
   "id": "bb536e5d",
   "metadata": {},
   "source": [
    "## Comparando as previsões do algoritmo com os dados reais"
   ]
  },
  {
   "cell_type": "code",
   "execution_count": 256,
   "id": "df9e8f49",
   "metadata": {},
   "outputs": [
    {
     "data": {
      "text/plain": [
       "array(['drugX', 'drugX', 'DrugY', 'DrugY', 'DrugY', 'drugX', 'drugX',\n",
       "       'drugX', 'DrugY', 'drugX', 'drugA', 'DrugY', 'DrugY', 'DrugY',\n",
       "       'drugB', 'drugX', 'DrugY', 'DrugY', 'drugX', 'DrugY', 'DrugY',\n",
       "       'drugX', 'drugX', 'drugX', 'DrugY', 'DrugY', 'DrugY', 'DrugY',\n",
       "       'DrugY', 'drugX', 'drugX', 'drugX', 'drugA', 'drugX', 'DrugY',\n",
       "       'DrugY', 'drugX', 'DrugY', 'drugA', 'drugX', 'DrugY', 'drugA',\n",
       "       'DrugY', 'drugX', 'DrugY', 'drugX', 'DrugY', 'DrugY', 'drugA',\n",
       "       'DrugY', 'DrugY', 'drugB', 'DrugY', 'DrugY', 'drugX', 'DrugY',\n",
       "       'drugX', 'drugX', 'DrugY', 'drugB'], dtype=object)"
      ]
     },
     "execution_count": 256,
     "metadata": {},
     "output_type": "execute_result"
    }
   ],
   "source": [
    "predictions = tree.predict(x_drugs_test)\n",
    "predictions"
   ]
  },
  {
   "cell_type": "code",
   "execution_count": 257,
   "id": "df155b4e",
   "metadata": {},
   "outputs": [
    {
     "data": {
      "text/plain": [
       "array(['drugC', 'drugX', 'DrugY', 'DrugY', 'DrugY', 'drugX', 'drugX',\n",
       "       'drugX', 'DrugY', 'drugX', 'drugA', 'DrugY', 'DrugY', 'DrugY',\n",
       "       'drugB', 'drugC', 'DrugY', 'DrugY', 'drugX', 'DrugY', 'DrugY',\n",
       "       'drugX', 'drugX', 'drugX', 'DrugY', 'DrugY', 'DrugY', 'DrugY',\n",
       "       'DrugY', 'drugX', 'drugX', 'drugC', 'drugA', 'drugX', 'DrugY',\n",
       "       'DrugY', 'drugX', 'DrugY', 'drugA', 'drugX', 'DrugY', 'drugA',\n",
       "       'DrugY', 'drugX', 'DrugY', 'drugX', 'DrugY', 'DrugY', 'drugA',\n",
       "       'DrugY', 'DrugY', 'drugB', 'DrugY', 'DrugY', 'drugC', 'DrugY',\n",
       "       'drugX', 'drugX', 'DrugY', 'drugB'], dtype=object)"
      ]
     },
     "execution_count": 257,
     "metadata": {},
     "output_type": "execute_result"
    }
   ],
   "source": [
    "np.array(y_drugs_test)"
   ]
  },
  {
   "cell_type": "markdown",
   "id": "9496b5d5",
   "metadata": {},
   "source": [
    "## Acurácia"
   ]
  },
  {
   "cell_type": "code",
   "execution_count": 258,
   "id": "fbff7821",
   "metadata": {},
   "outputs": [
    {
     "data": {
      "text/plain": [
       "0.9333333333333333"
      ]
     },
     "execution_count": 258,
     "metadata": {},
     "output_type": "execute_result"
    }
   ],
   "source": [
    "from sklearn.metrics import accuracy_score\n",
    "\n",
    "pred = model.predict(x_drugs_test)\n",
    "accuracy = accuracy_score(y_drugs_test, pred)\n",
    "accuracy"
   ]
  },
  {
   "cell_type": "markdown",
   "id": "1ecca6e3",
   "metadata": {},
   "source": [
    "## Matriz de Confusão"
   ]
  },
  {
   "cell_type": "code",
   "execution_count": 259,
   "id": "51edcc1a",
   "metadata": {},
   "outputs": [
    {
     "data": {
      "text/plain": [
       "0.9333333333333333"
      ]
     },
     "execution_count": 259,
     "metadata": {},
     "output_type": "execute_result"
    },
    {
     "data": {
      "image/png": "[encoded data removed]",
      "text/plain": [
       "<Figure size 500x500 with 1 Axes>"
      ]
     },
     "metadata": {},
     "output_type": "display_data"
    }
   ],
   "source": [
    "from yellowbrick.classifier import ConfusionMatrix\n",
    "plt.figure(figsize=(5,5))\n",
    "\n",
    "pred = model.predict(x_drugs_test)\n",
    "cm = ConfusionMatrix(model)\n",
    "cm.fit(x_drugs_train, y_drugs_train)\n",
    "cm.score(x_drugs_test, y_drugs_test)"
   ]
  },
  {
   "cell_type": "markdown",
   "id": "f1f69c1f",
   "metadata": {},
   "source": [
    "## Classification Report"
   ]
  },
  {
   "cell_type": "code",
   "execution_count": 260,
   "id": "8572d892",
   "metadata": {},
   "outputs": [
    {
     "name": "stdout",
     "output_type": "stream",
     "text": [
      "              precision    recall  f1-score   support\n",
      "\n",
      "       DrugY       1.00      1.00      1.00        30\n",
      "       drugA       1.00      1.00      1.00         5\n",
      "       drugB       1.00      1.00      1.00         3\n",
      "       drugC       0.00      0.00      0.00         4\n",
      "       drugX       0.82      1.00      0.90        18\n",
      "\n",
      "    accuracy                           0.93        60\n",
      "   macro avg       0.76      0.80      0.78        60\n",
      "weighted avg       0.88      0.93      0.90        60\n",
      "\n"
     ]
    },
    {
     "name": "stderr",
     "output_type": "stream",
     "text": [
      "c:\\Users\\disrct\\Desktop\\IA-Machine-Learning\\.venv\\Lib\\site-packages\\sklearn\\metrics\\_classification.py:1731: UndefinedMetricWarning: Precision is ill-defined and being set to 0.0 in labels with no predicted samples. Use `zero_division` parameter to control this behavior.\n",
      "  _warn_prf(average, modifier, f\"{metric.capitalize()} is\", result.shape[0])\n",
      "c:\\Users\\disrct\\Desktop\\IA-Machine-Learning\\.venv\\Lib\\site-packages\\sklearn\\metrics\\_classification.py:1731: UndefinedMetricWarning: Precision is ill-defined and being set to 0.0 in labels with no predicted samples. Use `zero_division` parameter to control this behavior.\n",
      "  _warn_prf(average, modifier, f\"{metric.capitalize()} is\", result.shape[0])\n",
      "c:\\Users\\disrct\\Desktop\\IA-Machine-Learning\\.venv\\Lib\\site-packages\\sklearn\\metrics\\_classification.py:1731: UndefinedMetricWarning: Precision is ill-defined and being set to 0.0 in labels with no predicted samples. Use `zero_division` parameter to control this behavior.\n",
      "  _warn_prf(average, modifier, f\"{metric.capitalize()} is\", result.shape[0])\n"
     ]
    }
   ],
   "source": [
    "from sklearn.metrics import classification_report\n",
    "\n",
    "print(classification_report(y_drugs_test, pred)) "
   ]
  },
  {
   "cell_type": "markdown",
   "id": "a7d3bd33",
   "metadata": {},
   "source": [
    "## Regressão Logística"
   ]
  },
  {
   "cell_type": "code",
   "execution_count": 261,
   "id": "80dac545",
   "metadata": {},
   "outputs": [
    {
     "name": "stderr",
     "output_type": "stream",
     "text": [
      "c:\\Users\\disrct\\Desktop\\IA-Machine-Learning\\.venv\\Lib\\site-packages\\sklearn\\linear_model\\_logistic.py:473: ConvergenceWarning: lbfgs failed to converge after 100 iteration(s) (status=1):\n",
      "STOP: TOTAL NO. OF ITERATIONS REACHED LIMIT\n",
      "\n",
      "Increase the number of iterations to improve the convergence (max_iter=100).\n",
      "You might also want to scale the data as shown in:\n",
      "    https://scikit-learn.org/stable/modules/preprocessing.html\n",
      "Please also refer to the documentation for alternative solver options:\n",
      "    https://scikit-learn.org/stable/modules/linear_model.html#logistic-regression\n",
      "  n_iter_i = _check_optimize_result(\n"
     ]
    }
   ],
   "source": [
    "from sklearn.linear_model import LogisticRegression\n",
    "\n",
    "logistic_r = LogisticRegression(random_state=1, max_iter=100)\n",
    "logistic_r.fit(x_drugs_train, y_drugs_train)\n",
    "\n",
    "model = logistic_r"
   ]
  },
  {
   "cell_type": "markdown",
   "id": "da5e144a",
   "metadata": {},
   "source": [
    "## Comparando as previsões do algoritmo com os dados reais"
   ]
  },
  {
   "cell_type": "code",
   "execution_count": 262,
   "id": "672cd141",
   "metadata": {},
   "outputs": [
    {
     "data": {
      "text/plain": [
       "array(['drugX', 'drugX', 'DrugY', 'DrugY', 'DrugY', 'drugX', 'drugX',\n",
       "       'drugX', 'DrugY', 'drugX', 'drugA', 'DrugY', 'DrugY', 'DrugY',\n",
       "       'drugA', 'drugC', 'DrugY', 'DrugY', 'DrugY', 'DrugY', 'DrugY',\n",
       "       'drugX', 'drugX', 'drugX', 'DrugY', 'DrugY', 'drugX', 'DrugY',\n",
       "       'DrugY', 'drugX', 'drugX', 'DrugY', 'drugA', 'drugX', 'DrugY',\n",
       "       'DrugY', 'drugX', 'DrugY', 'drugA', 'drugX', 'DrugY', 'DrugY',\n",
       "       'DrugY', 'drugX', 'DrugY', 'drugX', 'drugX', 'DrugY', 'drugA',\n",
       "       'drugB', 'DrugY', 'drugB', 'DrugY', 'DrugY', 'drugX', 'DrugY',\n",
       "       'drugX', 'drugX', 'DrugY', 'drugB'], dtype=object)"
      ]
     },
     "execution_count": 262,
     "metadata": {},
     "output_type": "execute_result"
    }
   ],
   "source": [
    "predictions = logistic_r.predict(x_drugs_test)\n",
    "predictions"
   ]
  },
  {
   "cell_type": "code",
   "execution_count": 263,
   "id": "6b5ae5bf",
   "metadata": {},
   "outputs": [
    {
     "data": {
      "text/plain": [
       "array(['drugC', 'drugX', 'DrugY', 'DrugY', 'DrugY', 'drugX', 'drugX',\n",
       "       'drugX', 'DrugY', 'drugX', 'drugA', 'DrugY', 'DrugY', 'DrugY',\n",
       "       'drugB', 'drugC', 'DrugY', 'DrugY', 'drugX', 'DrugY', 'DrugY',\n",
       "       'drugX', 'drugX', 'drugX', 'DrugY', 'DrugY', 'DrugY', 'DrugY',\n",
       "       'DrugY', 'drugX', 'drugX', 'drugC', 'drugA', 'drugX', 'DrugY',\n",
       "       'DrugY', 'drugX', 'DrugY', 'drugA', 'drugX', 'DrugY', 'drugA',\n",
       "       'DrugY', 'drugX', 'DrugY', 'drugX', 'DrugY', 'DrugY', 'drugA',\n",
       "       'DrugY', 'DrugY', 'drugB', 'DrugY', 'DrugY', 'drugC', 'DrugY',\n",
       "       'drugX', 'drugX', 'DrugY', 'drugB'], dtype=object)"
      ]
     },
     "execution_count": 263,
     "metadata": {},
     "output_type": "execute_result"
    }
   ],
   "source": [
    "np.array(y_drugs_test)"
   ]
  },
  {
   "cell_type": "markdown",
   "id": "c1de0d7f",
   "metadata": {},
   "source": [
    "## Acurácia"
   ]
  },
  {
   "cell_type": "code",
   "execution_count": 264,
   "id": "21546b86",
   "metadata": {},
   "outputs": [
    {
     "data": {
      "text/plain": [
       "0.85"
      ]
     },
     "execution_count": 264,
     "metadata": {},
     "output_type": "execute_result"
    }
   ],
   "source": [
    "from sklearn.metrics import accuracy_score\n",
    "\n",
    "pred = model.predict(x_drugs_test)\n",
    "accuracy = accuracy_score(y_drugs_test, pred)\n",
    "accuracy"
   ]
  },
  {
   "cell_type": "markdown",
   "id": "9e04d0f9",
   "metadata": {},
   "source": [
    "## Matriz de Confusão"
   ]
  },
  {
   "cell_type": "code",
   "execution_count": 265,
   "id": "3c1158d8",
   "metadata": {},
   "outputs": [
    {
     "data": {
      "text/plain": [
       "0.85"
      ]
     },
     "execution_count": 265,
     "metadata": {},
     "output_type": "execute_result"
    },
    {
     "data": {
      "image/png": "[encoded data removed]",
      "text/plain": [
       "<Figure size 500x500 with 1 Axes>"
      ]
     },
     "metadata": {},
     "output_type": "display_data"
    }
   ],
   "source": [
    "from yellowbrick.classifier import ConfusionMatrix\n",
    "plt.figure(figsize=(5,5))\n",
    "\n",
    "pred = model.predict(x_drugs_test)\n",
    "cm = ConfusionMatrix(model)\n",
    "cm.fit(x_drugs_train, y_drugs_train)\n",
    "cm.score(x_drugs_test, y_drugs_test)"
   ]
  },
  {
   "cell_type": "markdown",
   "id": "b83d696e",
   "metadata": {},
   "source": [
    "## Classification Report"
   ]
  },
  {
   "cell_type": "code",
   "execution_count": 266,
   "id": "ee04b166",
   "metadata": {},
   "outputs": [
    {
     "name": "stdout",
     "output_type": "stream",
     "text": [
      "              precision    recall  f1-score   support\n",
      "\n",
      "       DrugY       0.90      0.90      0.90        30\n",
      "       drugA       0.80      0.80      0.80         5\n",
      "       drugB       0.67      0.67      0.67         3\n",
      "       drugC       1.00      0.25      0.40         4\n",
      "       drugX       0.81      0.94      0.87        18\n",
      "\n",
      "    accuracy                           0.85        60\n",
      "   macro avg       0.84      0.71      0.73        60\n",
      "weighted avg       0.86      0.85      0.84        60\n",
      "\n"
     ]
    }
   ],
   "source": [
    "from sklearn.metrics import classification_report\n",
    "\n",
    "print(classification_report(y_drugs_test, pred)) "
   ]
  },
  {
   "cell_type": "markdown",
   "id": "b292e569",
   "metadata": {},
   "source": [
    "## K-Nearest-Neighbors"
   ]
  },
  {
   "cell_type": "code",
   "execution_count": 267,
   "id": "5d5b7ffd",
   "metadata": {},
   "outputs": [],
   "source": [
    "from sklearn.neighbors import KNeighborsClassifier\n",
    "\n",
    "knn_drugs = KNeighborsClassifier(n_neighbors=10)\n",
    "knn_drugs.fit(x_drugs_train, y_drugs_train)\n",
    "\n",
    "model = knn_drugs"
   ]
  },
  {
   "cell_type": "markdown",
   "id": "8a4fb5f0",
   "metadata": {},
   "source": [
    "## Comparando as previsões do algoritmo com os dados reais"
   ]
  },
  {
   "cell_type": "code",
   "execution_count": 268,
   "id": "6d1f028a",
   "metadata": {},
   "outputs": [
    {
     "data": {
      "text/plain": [
       "array(['drugX', 'drugX', 'DrugY', 'DrugY', 'DrugY', 'drugX', 'drugX',\n",
       "       'drugX', 'DrugY', 'drugB', 'drugX', 'DrugY', 'DrugY', 'DrugY',\n",
       "       'drugB', 'drugX', 'DrugY', 'DrugY', 'drugX', 'DrugY', 'DrugY',\n",
       "       'drugX', 'drugX', 'drugA', 'DrugY', 'DrugY', 'DrugY', 'DrugY',\n",
       "       'DrugY', 'drugX', 'drugB', 'DrugY', 'drugA', 'drugA', 'DrugY',\n",
       "       'DrugY', 'drugX', 'DrugY', 'drugX', 'drugX', 'DrugY', 'drugA',\n",
       "       'DrugY', 'drugB', 'DrugY', 'drugC', 'DrugY', 'DrugY', 'drugA',\n",
       "       'DrugY', 'DrugY', 'drugX', 'DrugY', 'DrugY', 'drugX', 'DrugY',\n",
       "       'drugX', 'drugA', 'DrugY', 'drugX'], dtype=object)"
      ]
     },
     "execution_count": 268,
     "metadata": {},
     "output_type": "execute_result"
    }
   ],
   "source": [
    "predictions = knn_drugs.predict(x_drugs_test)\n",
    "predictions"
   ]
  },
  {
   "cell_type": "code",
   "execution_count": 269,
   "id": "ceacb2cc",
   "metadata": {},
   "outputs": [
    {
     "data": {
      "text/plain": [
       "array(['drugC', 'drugX', 'DrugY', 'DrugY', 'DrugY', 'drugX', 'drugX',\n",
       "       'drugX', 'DrugY', 'drugX', 'drugA', 'DrugY', 'DrugY', 'DrugY',\n",
       "       'drugB', 'drugC', 'DrugY', 'DrugY', 'drugX', 'DrugY', 'DrugY',\n",
       "       'drugX', 'drugX', 'drugX', 'DrugY', 'DrugY', 'DrugY', 'DrugY',\n",
       "       'DrugY', 'drugX', 'drugX', 'drugC', 'drugA', 'drugX', 'DrugY',\n",
       "       'DrugY', 'drugX', 'DrugY', 'drugA', 'drugX', 'DrugY', 'drugA',\n",
       "       'DrugY', 'drugX', 'DrugY', 'drugX', 'DrugY', 'DrugY', 'drugA',\n",
       "       'DrugY', 'DrugY', 'drugB', 'DrugY', 'DrugY', 'drugC', 'DrugY',\n",
       "       'drugX', 'drugX', 'DrugY', 'drugB'], dtype=object)"
      ]
     },
     "execution_count": 269,
     "metadata": {},
     "output_type": "execute_result"
    }
   ],
   "source": [
    "np.array(y_drugs_test)"
   ]
  },
  {
   "cell_type": "markdown",
   "id": "5fa60756",
   "metadata": {},
   "source": [
    "## Acurácia"
   ]
  },
  {
   "cell_type": "code",
   "execution_count": 270,
   "id": "e091ed51",
   "metadata": {},
   "outputs": [
    {
     "data": {
      "text/plain": [
       "0.75"
      ]
     },
     "execution_count": 270,
     "metadata": {},
     "output_type": "execute_result"
    }
   ],
   "source": [
    "from sklearn.metrics import accuracy_score\n",
    "\n",
    "pred = model.predict(x_drugs_test)\n",
    "accuracy = accuracy_score(y_drugs_test, pred)\n",
    "accuracy"
   ]
  },
  {
   "cell_type": "markdown",
   "id": "2da8e5d7",
   "metadata": {},
   "source": [
    "## Matriz de Confusão"
   ]
  },
  {
   "cell_type": "code",
   "execution_count": 271,
   "id": "2bf12133",
   "metadata": {},
   "outputs": [
    {
     "data": {
      "text/plain": [
       "0.75"
      ]
     },
     "execution_count": 271,
     "metadata": {},
     "output_type": "execute_result"
    },
    {
     "data": {
      "image/png": "[encoded data removed]",
      "text/plain": [
       "<Figure size 500x500 with 1 Axes>"
      ]
     },
     "metadata": {},
     "output_type": "display_data"
    }
   ],
   "source": [
    "from yellowbrick.classifier import ConfusionMatrix\n",
    "plt.figure(figsize=(5,5))\n",
    "\n",
    "pred = model.predict(x_drugs_test)\n",
    "cm = ConfusionMatrix(model)\n",
    "cm.fit(x_drugs_train, y_drugs_train)\n",
    "cm.score(x_drugs_test, y_drugs_test)"
   ]
  },
  {
   "cell_type": "markdown",
   "id": "44238604",
   "metadata": {},
   "source": [
    "## Classification Report"
   ]
  },
  {
   "cell_type": "code",
   "execution_count": 272,
   "id": "f4619bfd",
   "metadata": {},
   "outputs": [
    {
     "name": "stdout",
     "output_type": "stream",
     "text": [
      "              precision    recall  f1-score   support\n",
      "\n",
      "       DrugY       0.97      1.00      0.98        30\n",
      "       drugA       0.50      0.60      0.55         5\n",
      "       drugB       0.25      0.33      0.29         3\n",
      "       drugC       0.00      0.00      0.00         4\n",
      "       drugX       0.61      0.61      0.61        18\n",
      "\n",
      "    accuracy                           0.75        60\n",
      "   macro avg       0.47      0.51      0.49        60\n",
      "weighted avg       0.72      0.75      0.73        60\n",
      "\n"
     ]
    }
   ],
   "source": [
    "from sklearn.metrics import classification_report\n",
    "\n",
    "print(classification_report(y_drugs_test, pred)) "
   ]
  }
 ],
 "metadata": {
  "kernelspec": {
   "display_name": ".venv (3.12.1)",
   "language": "python",
   "name": "python3"
  },
  "language_info": {
   "codemirror_mode": {
    "name": "ipython",
    "version": 3
   },
   "file_extension": ".py",
   "mimetype": "text/x-python",
   "name": "python",
   "nbconvert_exporter": "python",
   "pygments_lexer": "ipython3",
   "version": "3.12.1"
  }
 },
 "nbformat": 4,
 "nbformat_minor": 5
}
