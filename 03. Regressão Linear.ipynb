{
 "cells": [
  {
   "cell_type": "markdown",
   "id": "79d149c9",
   "metadata": {},
   "source": [
    "# Exercício — Regressão Linear\n",
    "## Importação das bibliotecas e inicialização do dataframe"
   ]
  },
  {
   "cell_type": "code",
   "execution_count": 5,
   "id": "a03ad0ca",
   "metadata": {},
   "outputs": [],
   "source": [
    "import pandas as pd\n",
    "import numpy as np\n",
    "import matplotlib.pyplot as plt\n",
    "import seaborn as sns\n",
    "import plotly.express as px\n",
    "\n",
    "df = pd.read_csv('plano_saude.csv')"
   ]
  },
  {
   "cell_type": "markdown",
   "id": "769e8f6c",
   "metadata": {},
   "source": [
    "## Regressão Linear Manual\n",
    "### (usando cálculos de covariância, coeficientes de correlação e determinação, intersecção e inclinação)"
   ]
  },
  {
   "cell_type": "code",
   "execution_count": 7,
   "id": "bbfeb4f3",
   "metadata": {},
   "outputs": [],
   "source": [
    "def PrevisaoRegressaoLinear(x, y, v):\n",
    "    x = np.array(x)\n",
    "    y = np.array(y)\n",
    "\n",
    "    cov_xy = np.corrcoef(x, y)[0, 1]\n",
    "    inclinacao = cov_xy * (np.std(y)/np.std(x))\n",
    "    interseccao = np.mean(y) - inclinacao * np.mean(x)\n",
    "    previsao = interseccao + inclinacao * v\n",
    "    return float(previsao)"
   ]
  }
 ],
 "metadata": {
  "kernelspec": {
   "display_name": ".venv (3.12.1)",
   "language": "python",
   "name": "python3"
  },
  "language_info": {
   "codemirror_mode": {
    "name": "ipython",
    "version": 3
   },
   "file_extension": ".py",
   "mimetype": "text/x-python",
   "name": "python",
   "nbconvert_exporter": "python",
   "pygments_lexer": "ipython3",
   "version": "3.12.1"
  }
 },
 "nbformat": 4,
 "nbformat_minor": 5
}
